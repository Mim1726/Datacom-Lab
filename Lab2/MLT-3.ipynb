{
  "metadata": {
    "kernelspec": {
      "name": "python",
      "display_name": "Python (Pyodide)",
      "language": "python"
    },
    "language_info": {
      "codemirror_mode": {
        "name": "python",
        "version": 3
      },
      "file_extension": ".py",
      "mimetype": "text/x-python",
      "name": "python",
      "nbconvert_exporter": "python",
      "pygments_lexer": "ipython3",
      "version": "3.8"
    }
  },
  "nbformat_minor": 5,
  "nbformat": 4,
  "cells": [
    {
      "id": "5b0b385a-bcce-441c-ac3d-10a0e9f75f23",
      "cell_type": "code",
      "source": "import matplotlib.pyplot as plt",
      "metadata": {
        "trusted": true
      },
      "outputs": [],
      "execution_count": 34
    },
    {
      "id": "628c4fb5-bf55-4e3e-969f-a878df02d1ba",
      "cell_type": "code",
      "source": "input = '1100101'\nencoded = []\nmlt3_levels = [0, 1, 0, -1]\ncurrentIndex = 0\ncurrentLevel = 0",
      "metadata": {
        "trusted": true
      },
      "outputs": [],
      "execution_count": 44
    },
    {
      "id": "e5361e6f-9f7a-459c-856b-a1c5a19294d7",
      "cell_type": "code",
      "source": "for bit in input:\n    if bit=='1':\n        currentIndex = (currentIndex + 1) % len(mlt3_levels)\n        currentLevel = mlt3_levels[currentIndex]\n    encoded.append(currentLevel)",
      "metadata": {
        "trusted": true
      },
      "outputs": [],
      "execution_count": 45
    },
    {
      "id": "e7bffd73-9df4-4643-a17c-e4a3a8d994c7",
      "cell_type": "code",
      "source": "print(encoded)",
      "metadata": {
        "trusted": true
      },
      "outputs": [
        {
          "name": "stdout",
          "output_type": "stream",
          "text": "[1, 0, 0, 0, -1, -1, 0]\n"
        }
      ],
      "execution_count": 46
    },
    {
      "id": "1dad6e35-7e29-41f1-9a06-77a220124439",
      "cell_type": "code",
      "source": "plt.figure(figsize=(10, 3))\nplt.step(range(len(encoded)), encoded, where='post')\nplt.xticks(range(len(encoded)), list(input))\nplt.yticks([-1, 0, 1], [\"Low (-1)\", \"Zero (0)\", \"High (+1)\"])\nplt.xlabel(\"Time\")\nplt.ylabel(\"Voltage Level\")\nplt.title(\"MLT-3 Encoding\")\nplt.grid(True)\nplt.show()",
      "metadata": {
        "trusted": true
      },
      "outputs": [
        {
          "output_type": "display_data",
          "data": {
            "text/plain": "<Figure size 1000x300 with 1 Axes>",
            "image/png": "[encoded data removed]"
          },
          "metadata": {}
        }
      ],
      "execution_count": 47
    },
    {
      "id": "cc9b86f6-213e-4537-8e82-99099d139b58",
      "cell_type": "code",
      "source": "print(encoded)",
      "metadata": {
        "trusted": true
      },
      "outputs": [
        {
          "name": "stdout",
          "output_type": "stream",
          "text": "[1, 0, 0, 0, -1, -1, 0]\n"
        }
      ],
      "execution_count": 58
    },
    {
      "id": "8f86ea12-e3b5-43c3-b15a-97c3eb65df25",
      "cell_type": "code",
      "source": "decoded = \"\"\ntrack = 0  \n\nfor bit in encoded:\n    if bit != track:\n        decoded += '1'\n    else:\n        decoded += '0'\n    track = bit\n",
      "metadata": {
        "trusted": true
      },
      "outputs": [],
      "execution_count": 68
    },
    {
      "id": "dff4e400-b8c6-43d7-9844-0d00220dd28d",
      "cell_type": "code",
      "source": "print(decoded)",
      "metadata": {
        "trusted": true
      },
      "outputs": [
        {
          "name": "stdout",
          "output_type": "stream",
          "text": "1100101\n"
        }
      ],
      "execution_count": 69
    }
  ]
}