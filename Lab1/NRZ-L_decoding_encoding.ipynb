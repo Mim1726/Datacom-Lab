{
  "metadata": {
    "kernelspec": {
      "name": "python",
      "display_name": "Python (Pyodide)",
      "language": "python"
    },
    "language_info": {
      "codemirror_mode": {
        "name": "python",
        "version": 3
      },
      "file_extension": ".py",
      "mimetype": "text/x-python",
      "name": "python",
      "nbconvert_exporter": "python",
      "pygments_lexer": "ipython3",
      "version": "3.8"
    }
  },
  "nbformat_minor": 5,
  "nbformat": 4,
  "cells": [
    {
      "id": "e0b08e65-1ca5-4481-82e9-eda9f7574374",
      "cell_type": "code",
      "source": "import matplotlib.pyplot as plt",
      "metadata": {
        "trusted": true
      },
      "outputs": [
        {
          "name": "stderr",
          "output_type": "stream",
          "text": "Matplotlib is building the font cache; this may take a moment.\n"
        }
      ],
      "execution_count": 12
    },
    {
      "id": "94e60ab9-f0c8-4203-bc54-615d06133e1d",
      "cell_type": "code",
      "source": "input = '10111001'\nencoded = []",
      "metadata": {
        "trusted": true
      },
      "outputs": [],
      "execution_count": 29
    },
    {
      "id": "6fca9b42-f2c7-41bd-b274-812ea5b66afa",
      "cell_type": "code",
      "source": "for bit in input:\n    if bit=='1':\n        encoded.append(1)\n    else:\n        encoded.append(-1)",
      "metadata": {
        "trusted": true
      },
      "outputs": [],
      "execution_count": 30
    },
    {
      "id": "d25e9095-a2c4-43d2-b4c7-4631151b2861",
      "cell_type": "code",
      "source": "print(encoded)",
      "metadata": {
        "trusted": true
      },
      "outputs": [
        {
          "name": "stdout",
          "output_type": "stream",
          "text": "[1, -1, 1, 1, 1, -1, -1, 1]\n"
        }
      ],
      "execution_count": 31
    },
    {
      "id": "4f567fcc-cf59-44b8-8c6d-c152f6854700",
      "cell_type": "code",
      "source": "plt.figure(figsize=(10, 3))\nplt.step(range(len(input)), encoded, where = 'post')\nplt.xticks(range(len(input)), input)\nplt.yticks([-1, 1], [\"Low (-1)\", \"High (+1)\"])\nplt.xlabel(\"Time\")\nplt.ylabel(\"Voltage Level\")\nplt.title(\"NRZ-L Encoding\")\nplt.grid(True)\nplt.show()",
      "metadata": {
        "trusted": true,
        "scrolled": true
      },
      "outputs": [
        {
          "output_type": "display_data",
          "data": {
            "text/plain": "<Figure size 1000x300 with 1 Axes>",
            "image/png": "[encoded data removed]"
          },
          "metadata": {}
        }
      ],
      "execution_count": 33
    },
    {
      "id": "81fa1caa-1d70-484a-a78a-3f75425cc9f3",
      "cell_type": "code",
      "source": "decodedText = \"\"\nfor bit in encoded:\n    if bit==1:\n        decodedText += '1'\n    else:\n        decodedText +='0'",
      "metadata": {
        "trusted": true
      },
      "outputs": [],
      "execution_count": 41
    },
    {
      "id": "c38fee58-74ca-49d5-9ae0-86c99d97485a",
      "cell_type": "code",
      "source": "print(decodedText)",
      "metadata": {
        "trusted": true
      },
      "outputs": [
        {
          "name": "stdout",
          "output_type": "stream",
          "text": "10111001\n"
        }
      ],
      "execution_count": 42
    }
  ]
}