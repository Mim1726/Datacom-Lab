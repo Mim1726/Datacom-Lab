{
  "cells": [
    {
      "cell_type": "code",
      "execution_count": 1,
      "id": "cd9862b3-30d6-427b-8bdd-0155e444876d",
      "metadata": {
        "trusted": true
      },
      "outputs": [
        {
          "name": "stderr",
          "output_type": "stream",
          "text": [
            "Matplotlib is building the font cache; this may take a moment.\n"
          ]
        }
      ],
      "source": [
        "import matplotlib.pyplot as plt"
      ]
    },
    {
      "cell_type": "code",
      "execution_count": 2,
      "id": "6e0f7d6f-1458-479d-ad98-59e04e303295",
      "metadata": {
        "trusted": true
      },
      "outputs": [],
      "source": [
        "input = '10111001'\n",
        "encoded = []"
      ]
    },
    {
      "cell_type": "code",
      "execution_count": null,
      "id": "3a6134df-5449-452b-bbc3-4cbf3c41adf5",
      "metadata": {
        "trusted": true
      },
      "outputs": [],
      "source": [
        "for bit in input:\n",
        "    if bit == '0':\n",
        "        encoded += [0, 1]\n",
        "    else:\n",
        "        encoded += [1, 0]"
      ]
    },
    {
      "cell_type": "code",
      "execution_count": 4,
      "id": "50f62947-a1a9-4f92-9166-1c5d05f204be",
      "metadata": {
        "trusted": true
      },
      "outputs": [
        {
          "name": "stdout",
          "output_type": "stream",
          "text": [
            "[1, 0, 0, 1, 1, 0, 1, 0, 1, 0, 0, 1, 0, 1, 1, 0]\n"
          ]
        }
      ],
      "source": [
        "print(encoded)"
      ]
    },
    {
      "cell_type": "code",
      "execution_count": 8,
      "id": "cbef8ca8-5a9a-4d51-a208-11d28336ea83",
      "metadata": {
        "trusted": true
      },
      "outputs": [
        {
          "data": {
            "image/png": "[encoded data removed]",
            "text/plain": [
              "<Figure size 1200x300 with 1 Axes>"
            ]
          },
          "metadata": {},
          "output_type": "display_data"
        }
      ],
      "source": [
        "plt.figure(figsize=(12, 3))\n",
        "plt.step(range(len(encoded)), encoded, where = 'post')\n",
        "plt.xticks(range(0, len(encoded), 2), input)\n",
        "plt.yticks([0, 1], [\"Low (0)\", \"High (+1)\"])\n",
        "plt.xlabel(\"Time\")\n",
        "plt.ylabel(\"Voltage Level\")\n",
        "plt.title(\"Manchester Encoding\")\n",
        "plt.grid(True)\n",
        "plt.show()"
      ]
    },
    {
      "cell_type": "code",
      "execution_count": 10,
      "id": "136b38ef-cda5-4001-b42c-dfef7ff1d950",
      "metadata": {
        "trusted": true
      },
      "outputs": [],
      "source": [
        "decoded = \"\"\n",
        "for i in range(0, len(encoded), 2):\n",
        "    first_half = encoded[i]\n",
        "    second_half = encoded[i+1]\n",
        "    if first_half == 0 and second_half == 1:\n",
        "        decoded += '0'\n",
        "    else:\n",
        "        decoded += '1'"
      ]
    },
    {
      "cell_type": "code",
      "execution_count": 11,
      "id": "8b313e64-c84e-4373-9faa-f0bfdbce8cff",
      "metadata": {
        "trusted": true
      },
      "outputs": [
        {
          "name": "stdout",
          "output_type": "stream",
          "text": [
            "10111001\n"
          ]
        }
      ],
      "source": [
        "print(decoded)"
      ]
    },
    {
      "cell_type": "code",
      "execution_count": null,
      "id": "107c3e22-87ea-4d3c-af1e-b8441e43d313",
      "metadata": {
        "trusted": true
      },
      "outputs": [],
      "source": []
    }
  ],
  "metadata": {
    "kernelspec": {
      "display_name": "Python (Pyodide)",
      "language": "python",
      "name": "python"
    },
    "language_info": {
      "codemirror_mode": {
        "name": "python",
        "version": 3
      },
      "file_extension": ".py",
      "mimetype": "text/x-python",
      "name": "python",
      "nbconvert_exporter": "python",
      "pygments_lexer": "ipython3",
      "version": "3.8"
    }
  },
  "nbformat": 4,
  "nbformat_minor": 5
}
