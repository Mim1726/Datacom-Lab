{
 "cells": [
  {
   "cell_type": "code",
   "execution_count": 1,
   "id": "1fb2bb03",
   "metadata": {},
   "outputs": [],
   "source": [
    "import matplotlib.pyplot as plt"
   ]
  },
  {
   "cell_type": "markdown",
   "id": "29281eee",
   "metadata": {},
   "source": [
    "# NRZ-I encoding visualization"
   ]
  },
  {
   "cell_type": "code",
   "execution_count": 2,
   "id": "268414bb",
   "metadata": {},
   "outputs": [],
   "source": [
    "signal = []\n",
    "\n",
    "voltage = 1\n",
    "\n",
    "text = '1010110110'"
   ]
  },
  {
   "cell_type": "markdown",
   "id": "7c053966",
   "metadata": {},
   "source": [
    "- The NRZ-I encoding process converts a binary sequence into a signal where '1' causes a level transition and '0' maintains the previous level.\n"
   ]
  },
  {
   "cell_type": "code",
   "execution_count": 3,
   "id": "b51b071a",
   "metadata": {},
   "outputs": [],
   "source": [
    "for bit in text:\n",
    "    if bit == '1':\n",
    "        voltage = 1 - voltage\n",
    "    signal.append(voltage)\n"
   ]
  },
  {
   "cell_type": "code",
   "execution_count": 4,
   "id": "e7586336",
   "metadata": {},
   "outputs": [
    {
     "name": "stdout",
     "output_type": "stream",
     "text": [
      "[0, 0, 1, 1, 0, 1, 1, 0, 1, 1]\n"
     ]
    }
   ],
   "source": [
    "print(signal)"
   ]
  },
  {
   "cell_type": "markdown",
   "id": "48db39d4",
   "metadata": {},
   "source": [
    "- The step plot effectively visualizes how the signal transitions occur at each bit position.\n"
   ]
  },
  {
   "cell_type": "code",
   "execution_count": 5,
   "id": "1201e1d8",
   "metadata": {},
   "outputs": [
    {
     "data": {
      "image/png": "[encoded data removed]",
      "text/plain": [
       "<Figure size 640x480 with 1 Axes>"
      ]
     },
     "metadata": {},
     "output_type": "display_data"
    }
   ],
   "source": [
    "plt.step(range(len(text)),signal,where = 'post')\n",
    "plt.xticks(range(len(text)),text)\n",
    "plt.yticks([0,1],['Low','High'])\n",
    "plt.xlabel(\"Bit Position\")\n",
    "plt.ylabel(\"Signal Level\")\n",
    "plt.title(\"NRZ-I Encoding\")\n",
    "plt.grid(True)\n",
    "plt.show()"
   ]
  },
  {
   "cell_type": "code",
   "execution_count": 6,
   "id": "ec96a4fc",
   "metadata": {},
   "outputs": [],
   "source": [
    "decodedText = \"\"\n",
    "track = 1\n",
    "for bit in signal:\n",
    "    if bit != track:\n",
    "        decodedText += '1'\n",
    "    else :\n",
    "        decodedText += '0'\n",
    "    track = bit\n",
    "    "
   ]
  },
  {
   "cell_type": "code",
   "execution_count": 7,
   "id": "d066277f",
   "metadata": {},
   "outputs": [
    {
     "name": "stdout",
     "output_type": "stream",
     "text": [
      "1010110110\n"
     ]
    }
   ],
   "source": [
    "print(decodedText)"
   ]
  },
  {
   "cell_type": "markdown",
   "id": "9e1bb724",
   "metadata": {},
   "source": [
    "- The decoding process successfully reconstructs the original binary sequence by detecting level transitions.\n"
   ]
  },
  {
   "cell_type": "markdown",
   "id": "c28cb4fe",
   "metadata": {},
   "source": []
  }
 ],
 "metadata": {
  "kernelspec": {
   "display_name": "Python 3",
   "language": "python",
   "name": "python3"
  },
  "language_info": {
   "codemirror_mode": {
    "name": "ipython",
    "version": 3
   },
   "file_extension": ".py",
   "mimetype": "text/x-python",
   "name": "python",
   "nbconvert_exporter": "python",
   "pygments_lexer": "ipython3",
   "version": "3.11.9"
  }
 },
 "nbformat": 4,
 "nbformat_minor": 5
}
